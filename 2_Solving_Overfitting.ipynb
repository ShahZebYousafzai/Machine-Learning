{
  "nbformat": 4,
  "nbformat_minor": 0,
  "metadata": {
    "colab": {
      "provenance": [],
      "authorship_tag": "ABX9TyPoERWRHo7ooZo+wQS2+Zq7",
      "include_colab_link": true
    },
    "kernelspec": {
      "name": "python3",
      "display_name": "Python 3"
    },
    "language_info": {
      "name": "python"
    }
  },
  "cells": [
    {
      "cell_type": "markdown",
      "metadata": {
        "id": "view-in-github",
        "colab_type": "text"
      },
      "source": [
        "<a href=\"https://colab.research.google.com/github/ShahZebYousafzai/Machine-Learning/blob/main/2_Solving_Overfitting.ipynb\" target=\"_parent\"><img src=\"https://colab.research.google.com/assets/colab-badge.svg\" alt=\"Open In Colab\"/></a>"
      ]
    },
    {
      "cell_type": "markdown",
      "source": [
        "# Handling the Problem of Overfitting\n",
        "\n",
        "When constructing and training a machine learning model, encountering challenges is inevitable. It's not uncommon for the model to initially underperform, but with further refinement and adjustment, it can eventually yield improved results.\n",
        "\n",
        "Let's examine the three possible scenarios we may encounter. For instance, suppose we aim to forecast house prices based on their size, using a linear regression model depicted in Figure 1.\n",
        "\n",
        "If the data is non-linear, trying to fit it with a linear regression model is not a wise decision since it will result in poor performance on the training data. This situation is referred to as underfitting or high bias.\n",
        "\n",
        "To improve the model, let's try fitting a quadratic function to the training data, as shown in Figure 2. Although it does not fit the training data perfectly, it outperforms the previous model, and it also generalizes well on the testing set.\n",
        "\n",
        "However, let's say we attempt to fit a 4th order polynomial to the data, as displayed in Figure 3. This leads to a wiggly curve that fits the training data extremely well, but it is not applicable to the test set. This issue is known as overfitting or high variance. In this situation our model will noit generalize well on the testing data.\n",
        "\n",
        "Therefore, the best scenario for our problem is the second one, where the model fits the data well without overfitting or underfitting.\n",
        "\n",
        "The same concept applies to classification, and we would like to resolve this issue as well.\n",
        "\n",
        "Underfitting, also known as high bias, occurs when our model does not perform well on either the training data or the testing data. On the other hand, overfitting, also known as high variance, arises when our model performs exceptionally well on the training data but performs poorly on the testing data.\n",
        "\n",
        "Encountering the underfitting scenario is less common, while the overfitting scenario is more likely to occur in practice which we will need to solve.\n",
        "\n",
        "To address the overfitting problem, we have several options available:\n",
        "\n",
        "1. Adding more training examples can help, but it is often time-consuming and costly since it requires extensive labor work.\n",
        "\n",
        "2. Adding training data in unstructured data is comparatively easier than in structured data. If we possess domain knowledge for our problem, we can add or remove some features. However, adding more features can lead us towards overfitting, while removing features may cause us to discard important features. Hence, this may not be the best option.\n",
        "\n",
        "3. The most common solution to overfitting is regularization, which shrinks the size of parameters having large values."
      ],
      "metadata": {
        "id": "5ce6lRUDVKhk"
      }
    }
  ]
}