{
  "nbformat": 4,
  "nbformat_minor": 0,
  "metadata": {
    "colab": {
      "provenance": [],
      "authorship_tag": "ABX9TyNrY5MmP5EgxodWFx8Ov/bP",
      "include_colab_link": true
    },
    "kernelspec": {
      "name": "python3",
      "display_name": "Python 3"
    },
    "language_info": {
      "name": "python"
    }
  },
  "cells": [
    {
      "cell_type": "markdown",
      "metadata": {
        "id": "view-in-github",
        "colab_type": "text"
      },
      "source": [
        "<a href=\"https://colab.research.google.com/github/ShahZebYousafzai/Machine-Learning/blob/main/2_Solving_Overfitting.ipynb\" target=\"_parent\"><img src=\"https://colab.research.google.com/assets/colab-badge.svg\" alt=\"Open In Colab\"/></a>"
      ]
    },
    {
      "cell_type": "markdown",
      "source": [
        "# Handling the Problem of Overfitting\n",
        "\n",
        "When constructing and training a machine learning model, encountering challenges is inevitable. It's not uncommon for the model to initially underperform, but with further refinement and adjustment, it can eventually yield improved results.\n",
        "\n",
        "Let's look at the three possible scenarios that we will run into. \n",
        "\n",
        "For example, we predict the pricce"
      ],
      "metadata": {
        "id": "5ce6lRUDVKhk"
      }
    }
  ]
}